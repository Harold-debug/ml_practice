{
 "cells": [
  {
   "cell_type": "markdown",
   "metadata": {},
   "source": [
    "## Instructions\n",
    "\n",
    "Fill in the cells of the notebook as well as report your results in Blackboard.\n",
    "\n",
    "Upload your final notebook in blackboard as well.\n",
    "\n",
    "\n",
    "**Don't forget to comment everything you code and analyze your results**"
   ]
  },
  {
   "cell_type": "markdown",
   "metadata": {},
   "source": [
    "## Presentation of Dataset\n",
    "\n",
    "The Titanic Dataset contains informations about Titanic passenger and wether they survived or not.\n",
    "\n",
    "The problematic is: \"we want to predict wether a passenger survived or not\".\n",
    "\n",
    "### Data dictionnary\n",
    "- survival :\tSurvival\t(0 = No, 1 = Yes)\n",
    "- pclass\t: Ticket class\t(1 = 1st, 2 = 2nd, 3 = 3rd)\n",
    "- sex\t: Sex\n",
    "- Age\t: Age in years\n",
    "- sibsp :\tnumber of siblings / spouses aboard the Titanic\n",
    "- parch\t: number of parents / children aboard the Titanic\n",
    "- ticket\t: Ticket number\n",
    "- fare\t: Passenger fare\t(money spent for the ticket)\n",
    "- cabin\t: Cabin number\n",
    "- embarked\t: Port of Embarkation\t(C = Cherbourg, Q = Queenstown, S = Southampton)"
   ]
  },
  {
   "cell_type": "markdown",
   "metadata": {},
   "source": [
    "### Start by importing the librairies\n"
   ]
  },
  {
   "cell_type": "code",
   "execution_count": null,
   "metadata": {
    "vscode": {
     "languageId": "plaintext"
    }
   },
   "outputs": [],
   "source": [
    "# Data vizualisation\n",
    "import matplotlib.pyplot as plt\n",
    "import plotly.express as px\n",
    "\n",
    "# Data preprocessing\n",
    "import pandas as pd\n",
    "from sklearn.model_selection import train_test_split\n",
    "\n",
    "# Machine learning\n",
    "from sklearn.ensemble import RandomForestClassifier\n",
    "from sklearn.metrics import accuracy_score, classification_report\n",
    "\n",
    "\n",
    "from sklearn.model_selection import GridSearchCV\n"
   ]
  },
  {
   "cell_type": "markdown",
   "metadata": {},
   "source": [
    "## Data preparation"
   ]
  },
  {
   "cell_type": "markdown",
   "metadata": {},
   "source": [
    "### Read the dataset"
   ]
  },
  {
   "cell_type": "code",
   "execution_count": null,
   "metadata": {
    "vscode": {
     "languageId": "plaintext"
    }
   },
   "outputs": [],
   "source": [
    "# Load data\n",
    "titanic_data = pd.read_csv('titanic.csv')"
   ]
  },
  {
   "cell_type": "markdown",
   "metadata": {},
   "source": [
    "### Explore the dataset"
   ]
  },
  {
   "cell_type": "code",
   "execution_count": null,
   "metadata": {
    "vscode": {
     "languageId": "plaintext"
    }
   },
   "outputs": [],
   "source": [
    "# First look at the data\n",
    "titanic_data.head()"
   ]
  },
  {
   "cell_type": "code",
   "execution_count": null,
   "metadata": {
    "vscode": {
     "languageId": "plaintext"
    }
   },
   "outputs": [],
   "source": [
    "# Get some information\n",
    "\n",
    "# Getting a concise summary of the dataframe, including the number of non-null values in each column\n",
    "print(titanic_data.info())"
   ]
  },
  {
   "cell_type": "code",
   "execution_count": null,
   "metadata": {
    "vscode": {
     "languageId": "plaintext"
    }
   },
   "outputs": [],
   "source": [
    "# Displaying the number of rows and columns in the dataframe\n",
    "print(f\"Dataset dimensions: {titanic_data.shape}\")"
   ]
  },
  {
   "cell_type": "code",
   "execution_count": null,
   "metadata": {
    "vscode": {
     "languageId": "plaintext"
    }
   },
   "outputs": [],
   "source": [
    "# Getting the number of unique values in each column\n",
    "print(titanic_data.nunique())"
   ]
  }
 ],
 "metadata": {
  "language_info": {
   "name": "python"
  }
 },
 "nbformat": 4,
 "nbformat_minor": 2
}
