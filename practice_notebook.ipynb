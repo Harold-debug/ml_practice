{
 "cells": [
  {
   "cell_type": "markdown",
   "metadata": {},
   "source": [
    "## Instructions\n",
    "\n",
    "Fill in the cells of the notebook as well as report your results in Blackboard.\n",
    "\n",
    "Upload your final notebook in blackboard as well.\n",
    "\n",
    "\n",
    "**Don't forget to comment everything you code and analyze your results**"
   ]
  },
  {
   "cell_type": "markdown",
   "metadata": {},
   "source": [
    "## Presentation of Dataset\n",
    "\n",
    "The Titanic Dataset contains informations about Titanic passenger and wether they survived or not.\n",
    "\n",
    "The problematic is: \"we want to predict wether a passenger survived or not\".\n",
    "\n",
    "### Data dictionnary\n",
    "- survival :\tSurvival\t(0 = No, 1 = Yes)\n",
    "- pclass\t: Ticket class\t(1 = 1st, 2 = 2nd, 3 = 3rd)\n",
    "- sex\t: Sex\n",
    "- Age\t: Age in years\n",
    "- sibsp :\tnumber of siblings / spouses aboard the Titanic\n",
    "- parch\t: number of parents / children aboard the Titanic\n",
    "- ticket\t: Ticket number\n",
    "- fare\t: Passenger fare\t(money spent for the ticket)\n",
    "- cabin\t: Cabin number\n",
    "- embarked\t: Port of Embarkation\t(C = Cherbourg, Q = Queenstown, S = Southampton)"
   ]
  },
  {
   "cell_type": "markdown",
   "metadata": {},
   "source": [
    "### Start by importing the librairies\n"
   ]
  },
  {
   "cell_type": "code",
   "execution_count": null,
   "metadata": {
    "vscode": {
     "languageId": "plaintext"
    }
   },
   "outputs": [],
   "source": [
    "# Data vizualisation\n",
    "import matplotlib.pyplot as plt\n",
    "import plotly.express as px\n",
    "\n",
    "# Data preprocessing\n",
    "import pandas as pd\n",
    "from sklearn.model_selection import train_test_split\n",
    "\n",
    "# Machine learning\n",
    "from sklearn.ensemble import RandomForestClassifier\n",
    "from sklearn.metrics import accuracy_score, classification_report\n",
    "\n",
    "\n",
    "from sklearn.model_selection import GridSearchCV\n"
   ]
  },
  {
   "cell_type": "markdown",
   "metadata": {},
   "source": [
    "## Data preparation"
   ]
  },
  {
   "cell_type": "markdown",
   "metadata": {},
   "source": [
    "### Read the dataset"
   ]
  },
  {
   "cell_type": "code",
   "execution_count": null,
   "metadata": {
    "vscode": {
     "languageId": "plaintext"
    }
   },
   "outputs": [],
   "source": [
    "# Load data\n",
    "titanic_data = pd.read_csv('titanic.csv')"
   ]
  },
  {
   "cell_type": "markdown",
   "metadata": {},
   "source": [
    "### Explore the dataset"
   ]
  },
  {
   "cell_type": "code",
   "execution_count": null,
   "metadata": {
    "vscode": {
     "languageId": "plaintext"
    }
   },
   "outputs": [],
   "source": [
    "# First look at the data\n",
    "titanic_data.head()"
   ]
  },
  {
   "cell_type": "code",
   "execution_count": null,
   "metadata": {
    "vscode": {
     "languageId": "plaintext"
    }
   },
   "outputs": [],
   "source": [
    "# Get some information\n",
    "\n",
    "# Getting a concise summary of the dataframe, including the number of non-null values in each column\n",
    "print(titanic_data.info())"
   ]
  },
  {
   "cell_type": "code",
   "execution_count": null,
   "metadata": {
    "vscode": {
     "languageId": "plaintext"
    }
   },
   "outputs": [],
   "source": [
    "# Displaying the number of rows and columns in the dataframe\n",
    "print(f\"Dataset dimensions: {titanic_data.shape}\")"
   ]
  },
  {
   "cell_type": "code",
   "execution_count": null,
   "metadata": {
    "vscode": {
     "languageId": "plaintext"
    }
   },
   "outputs": [],
   "source": [
    "# Getting the number of unique values in each column\n",
    "print(titanic_data.nunique())"
   ]
  },
  {
   "cell_type": "code",
   "execution_count": null,
   "metadata": {
    "vscode": {
     "languageId": "plaintext"
    }
   },
   "outputs": [],
   "source": [
    "# Getting some basic statistical details about the data\n",
    "print(titanic_data.describe())"
   ]
  },
  {
   "cell_type": "markdown",
   "metadata": {},
   "source": [
    "### Clean the dataset - Missing values (Q8 and Q9)"
   ]
  },
  {
   "cell_type": "code",
   "execution_count": null,
   "metadata": {
    "vscode": {
     "languageId": "plaintext"
    }
   },
   "outputs": [],
   "source": [
    "# Check for missing values\n",
    "# Report it in blackboard (Q8)\n",
    "\n",
    "\n",
    "print(titanic_data.isnull().sum())"
   ]
  },
  {
   "cell_type": "code",
   "execution_count": null,
   "metadata": {
    "vscode": {
     "languageId": "plaintext"
    }
   },
   "outputs": [],
   "source": [
    "# Calculating the percentage of missing values for each column\n",
    "missing_percentage = titanic_data.isnull().sum() / len(titanic_data) * 100\n",
    "\n",
    "# Printing the missing percentage for each column\n",
    "print(missing_percentage)\n"
   ]
  },
  {
   "cell_type": "code",
   "execution_count": null,
   "metadata": {
    "vscode": {
     "languageId": "plaintext"
    }
   },
   "outputs": [],
   "source": [
    "# Deal with the missing values\n",
    "# Remove the column with more than 75% of missing values\n",
    "\n",
    "# Calculating the percentage of missing values for each column\n",
    "missing_percentage = titanic_data.isnull().sum() / len(titanic_data) * 100\n",
    "\n",
    "# Identifying columns with more than 75% missing values\n",
    "columns_to_drop = missing_percentage[missing_percentage > 75].index\n",
    "\n",
    "# Dropping these columns from the DataFrame\n",
    "titanic_data_cleaned = titanic_data.drop(columns=columns_to_drop)\n",
    "\n",
    "# Displaying the columns that were dropped\n",
    "print(f\"Columns dropped: {columns_to_drop.tolist()}\")\n",
    "\n",
    "# Displaying the first few rows of the cleaned dataframe\n",
    "titanic_data_cleaned.head(3)"
   ]
  },
  {
   "cell_type": "code",
   "execution_count": null,
   "metadata": {
    "vscode": {
     "languageId": "plaintext"
    }
   },
   "outputs": [],
   "source": [
    "# Deal with the missing values\n",
    "# Remove the remaining rows with missing values\n",
    "\n",
    "# Removing rows with missing values\n",
    "titanic_data_cleaned = titanic_data_cleaned.dropna()\n",
    "\n",
    "# Verifying that there are no more missing values\n",
    "print(titanic_data_cleaned.isnull().sum())"
   ]
  },
  {
   "cell_type": "code",
   "execution_count": null,
   "metadata": {
    "vscode": {
     "languageId": "plaintext"
    }
   },
   "outputs": [],
   "source": [
    "# Get the final shape of the dataset and report it in Blackboard (Q9)\n",
    "\n",
    "# Checking the dimensions of the updated DataFrame\n",
    "print(f\"New dataset dimensions: {titanic_data_cleaned.shape}\")"
   ]
  },
  {
   "cell_type": "markdown",
   "metadata": {},
   "source": [
    "### Data visualization (Q10)"
   ]
  },
  {
   "cell_type": "markdown",
   "metadata": {},
   "source": [
    "**I am going to do a plot that shows the survival rate by passenger class**"
   ]
  },
  {
   "cell_type": "code",
   "execution_count": null,
   "metadata": {
    "vscode": {
     "languageId": "plaintext"
    }
   },
   "outputs": [],
   "source": [
    "# Data visualization (Q10)\n",
    "# Make a plot and analyze it. Use the library you prefer.\n",
    "# Report the figure and your analysis in blackboard\n",
    "# Your figure should be self-supporting (everyone can understand it without access to the code: including the title, and legend...)\n",
    "\n",
    "\n",
    "# Calculating the survival rate by passenger class\n",
    "survival_rate_by_class = titanic_data_cleaned.groupby('Pclass')['Survived'].mean()\n",
    "\n",
    "# Creating a bar plot\n",
    "plt.figure(figsize=(8, 6))\n",
    "survival_rate_by_class.plot(kind='bar', color=['blue', 'orange', 'green'])\n",
    "plt.title('Survival Rate by Passenger Class on the Titanic')\n",
    "plt.xlabel('Passenger Class')\n",
    "plt.ylabel('Survival Rate')\n",
    "plt.xticks(ticks=[0, 1, 2], labels=['1st Class', '2nd Class', '3rd Class'], rotation=0)\n",
    "plt.ylim(0, 1)\n",
    "plt.grid(axis='y', linestyle='--', alpha=0.7)\n",
    "\n",
    "# Adding value labels on top of each bar\n",
    "for index, value in enumerate(survival_rate_by_class):\n",
    "    plt.text(index, value + 0.02, f'{value:.2f}', ha='center')\n",
    "\n",
    "# Adding a legend\n",
    "plt.legend(['Survival Rate'], loc='upper left')\n",
    "\n",
    "# Saving the figure\n",
    "plt.savefig('survival_rate_by_class.png', bbox_inches='tight')\n",
    "\n",
    "# Showing the plot\n",
    "plt.show()"
   ]
  },
  {
   "cell_type": "markdown",
   "metadata": {},
   "source": [
    "**The results on the plots shows that passengers in 1st class had the highest chance of surviving the Titanic disaster with a survival rate of 0.65, while those in 3rd class had the lowest chance with a survival rate of 0.24.\n",
    "\n",
    "It's important to remember that these are averages and individual experiences varied. Some 3rd class passengers did survive, and some 1st class passengers did not. The survival rates also don't account for factors beyond passenger class, such as gender, age, and whether a passenger had a ticket to a cabin.\n",
    "\n",
    "In terms of building a predictive model, these survival rates could be useful features. However, they might not be sufficient on their own, especially since they don't account for the full range of factors that influenced survival. Other features, such as age, sex, and whether a passenger had a family member or child aboard, might also be important.**"
   ]
  },
  {
   "cell_type": "markdown",
   "metadata": {},
   "source": [
    "### Prepare your data for model training (Q11)\n",
    "\n"
   ]
  },
  {
   "cell_type": "code",
   "execution_count": null,
   "metadata": {
    "vscode": {
     "languageId": "plaintext"
    }
   },
   "outputs": [],
   "source": [
    "# Deal with non numeric features\n",
    "# Drop the \"Name\" and \"Ticket\" columns\n",
    "\n",
    "\n",
    "# Droping the \"Name\" and \"Ticket\" columns\n",
    "titanic_data_cleaned = titanic_data_cleaned.drop(columns=['Name', 'Ticket'])\n",
    "\n",
    "# Displaying the first few rows of the updated DataFrame\n",
    "print(titanic_data_cleaned.head(3))"
   ]
  },
  {
   "cell_type": "code",
   "execution_count": null,
   "metadata": {
    "vscode": {
     "languageId": "plaintext"
    }
   },
   "outputs": [],
   "source": [
    "# Deal with non numeric features\n",
    "# Option 1 : Convert the remaining column by mapping the values to numbers (use map from Pandas for example)\n",
    "# Option 2 (easy) : Remove all non numeric columns\n",
    "\n",
    "\n",
    "# Mapping the \"Sex\" column to binary values\n",
    "titanic_data_cleaned['Sex'] = titanic_data_cleaned['Sex'].map({'male': 0, 'female': 1})\n",
    "\n",
    "# Mapping the \"Embarked\" column to categorical values\n",
    "titanic_data_cleaned['Embarked'] = titanic_data_cleaned['Embarked'].map({'C': 0, 'Q': 1, 'S': 2})\n",
    "\n",
    "# Displaying the first few rows of the updated DataFrame\n",
    "print(titanic_data_cleaned.head())"
   ]
  },
  {
   "cell_type": "code",
   "execution_count": null,
   "metadata": {
    "vscode": {
     "languageId": "plaintext"
    }
   },
   "outputs": [],
   "source": [
    "# Get the features and label in two variables.\n",
    "\n",
    "\n",
    "# Splitting the dataset into features and label\n",
    "features = titanic_data_cleaned.drop('Survived', axis=1)\n",
    "label = titanic_data_cleaned['Survived']\n",
    "\n",
    "# Displaying the first few rows of the features and label\n",
    "print(\"Features:\\n\", features.head())\n",
    "print(\"\\nLabel:\\n\", label.head())\n"
   ]
  },
  {
   "cell_type": "code",
   "execution_count": null,
   "metadata": {
    "vscode": {
     "languageId": "plaintext"
    }
   },
   "outputs": [],
   "source": [
    "# Split the features and label in train and test set\n",
    "# Put 20% of the data in the test set\n",
    "\n",
    "\n",
    "# Splitting the features and label into training and testing sets\n",
    "X_train, X_test, y_train, y_test = train_test_split(features, label, test_size=0.2, random_state=42)\n"
   ]
  },
  {
   "cell_type": "code",
   "execution_count": null,
   "metadata": {
    "vscode": {
     "languageId": "plaintext"
    }
   },
   "outputs": [],
   "source": [
    "# Check the shape of each set (Q11)\n",
    "\n",
    "# Printing the shapes of the training and testing sets\n",
    "print(\"Training set shape: \", X_train.shape)\n",
    "print(\"Testing set shape: \", X_test.shape)"
   ]
  },
  {
   "cell_type": "code",
   "execution_count": null,
   "metadata": {
    "vscode": {
     "languageId": "plaintext"
    }
   },
   "outputs": [],
   "source": [
    "# Checking the affirmations in question 11\n",
    "print(\"X_train.shape[0]==y_train.shape[0]: \", X_train.shape[0]==y_train.shape[0])\n",
    "print(\"X_train and X_test have the same number of samples: \", X_train.shape[0]==X_test.shape[0])\n",
    "print(\"X_train and X_test have the same number of columns: \", X_train.shape[1]==X_test.shape[1])\n",
    "print(\"y_train.shape == y_test.shape: \", y_train.shape == y_test.shape)\n"
   ]
  },
  {
   "cell_type": "markdown",
   "metadata": {},
   "source": [
    "## Model Training (Q13)"
   ]
  },
  {
   "cell_type": "code",
   "execution_count": null,
   "metadata": {
    "vscode": {
     "languageId": "plaintext"
    }
   },
   "outputs": [],
   "source": [
    "# Define and train a Random Forest (Report your code in Q13)\n",
    "\n",
    "\n",
    "# Defining the model\n",
    "rf_model = RandomForestClassifier(n_estimators=100, random_state=42)\n",
    "\n",
    "# Training the model\n",
    "rf_model.fit(X_train, y_train)\n",
    "\n",
    "# Printing the model\n",
    "print(rf_model)"
   ]
  },
  {
   "cell_type": "markdown",
   "metadata": {},
   "source": [
    "## Model Evaluation (Q14 and Q15)"
   ]
  },
  {
   "cell_type": "code",
   "execution_count": null,
   "metadata": {
    "vscode": {
     "languageId": "plaintext"
    }
   },
   "outputs": [],
   "source": [
    "# Use your model to make predictions on the test set (Report your code in Q14)\n",
    "\n",
    "\n",
    "# Using the model to make predictions on the test set\n",
    "y_pred = rf_model.predict(X_test)\n",
    "\n",
    "# Printing the predicted values\n",
    "print(y_pred)"
   ]
  },
  {
   "cell_type": "code",
   "execution_count": null,
   "metadata": {
    "vscode": {
     "languageId": "plaintext"
    }
   },
   "outputs": [],
   "source": [
    "# Use the classification report to evaluate your model\n",
    "# Report the accuracy in blackboard (Q15)\n",
    "\n",
    "\n",
    "# Generating the classification report\n",
    "report = classification_report(y_test, y_pred)\n",
    "print(report)\n",
    "\n",
    "# Calculating the accuracy\n",
    "accuracy = accuracy_score(y_test, y_pred)\n",
    "print(f\"Accuracy: {accuracy:.2f}\")"
   ]
  },
  {
   "cell_type": "markdown",
   "metadata": {},
   "source": [
    "## Bonus : Try to improve your score ! (Q16)\n",
    "Report your best score in blackboard (Q16)"
   ]
  },
  {
   "cell_type": "code",
   "execution_count": null,
   "metadata": {
    "vscode": {
     "languageId": "plaintext"
    }
   },
   "outputs": [],
   "source": [
    "\n",
    "# Define the model\n",
    "rf_model = RandomForestClassifier(random_state=42)\n",
    "\n",
    "# Define the grid search parameters\n",
    "param_grid = {\n",
    "   'n_estimators': [100, 200, 500],\n",
    "   'max_depth': [None, 10, 20],\n",
    "   'min_samples_split': [2, 5, 10],\n",
    "   'min_samples_leaf': [1, 2, 4],\n",
    "   'bootstrap': [True, False]\n",
    "}\n",
    "\n",
    "# Perform grid search\n",
    "grid_search = GridSearchCV(estimator=rf_model, param_grid=param_grid, cv=3, scoring='accuracy', return_train_score=True)\n",
    "grid_search.fit(X_train, y_train)\n",
    "\n",
    "# Print the best parameters and the best score\n",
    "print(\"Best Parameters: \", grid_search.best_params_)\n",
    "print(\"Best Score: \", grid_search.best_score_)\n"
   ]
  }
 ],
 "metadata": {
  "language_info": {
   "name": "python"
  }
 },
 "nbformat": 4,
 "nbformat_minor": 2
}
